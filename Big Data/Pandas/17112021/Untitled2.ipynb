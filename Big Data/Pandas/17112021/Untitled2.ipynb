{
  "nbformat": 4,
  "nbformat_minor": 0,
  "metadata": {
    "colab": {
      "name": "Untitled2.ipynb",
      "provenance": [],
      "collapsed_sections": [],
      "authorship_tag": "ABX9TyOAF47758gCRqvy6mHUrJNa",
      "include_colab_link": true
    },
    "kernelspec": {
      "name": "python3",
      "display_name": "Python 3"
    },
    "language_info": {
      "name": "python"
    }
  },
  "cells": [
    {
      "cell_type": "markdown",
      "metadata": {
        "id": "view-in-github",
        "colab_type": "text"
      },
      "source": [
        "<a href=\"https://colab.research.google.com/github/school1739/python.21-22-2/blob/student%2Flukyanchikova/Untitled2.ipynb\" target=\"_parent\"><img src=\"https://colab.research.google.com/assets/colab-badge.svg\" alt=\"Open In Colab\"/></a>"
      ]
    },
    {
      "cell_type": "code",
      "execution_count": 10,
      "metadata": {
        "colab": {
          "base_uri": "https://localhost:8080/"
        },
        "id": "R2UTvN165mkQ",
        "outputId": "abf787d3-9807-464b-a47b-604ba3eb5020"
      },
      "outputs": [
        {
          "output_type": "stream",
          "name": "stdout",
          "text": [
            "<class 'pandas.core.frame.DataFrame'>\n",
            "RangeIndex: 236 entries, 0 to 235\n",
            "Data columns (total 8 columns):\n",
            " #   Column        Non-Null Count  Dtype \n",
            "---  ------        --------------  ----- \n",
            " 0   title         236 non-null    object\n",
            " 1   developers    205 non-null    object\n",
            " 2   publishers    232 non-null    object\n",
            " 3   release_date  221 non-null    object\n",
            " 4   platforms     234 non-null    object\n",
            " 5   genres        235 non-null    object\n",
            " 6   score         236 non-null    int64 \n",
            " 7   reviewed_by   236 non-null    object\n",
            "dtypes: int64(1), object(7)\n",
            "memory usage: 14.9+ KB\n"
          ]
        }
      ],
      "source": [
        "# Подключаем библиотеку Python и назначем краткий псевдоним для вызова\n",
        "import pandas as pd\n",
        "# Подключаем библиотеку Numpy и назначем краткий псевдоним для вызова\n",
        "import numpy as np\n",
        "\n",
        "dataset=pd.read_csv(\"/content/IGN_reviews.csv\")\n",
        "\n",
        "dataframe=pd.DataFrame(dataset)\n",
        "dataframe\n",
        "dataframe.head(7)\n",
        "dataframe.tail(4)\n",
        "dataframe.info()\n",
        "\n",
        "dataframe.isnull().sum()\n",
        "new_dataframe = dataframe.dropna()\n",
        "new_dataframe.to_csv('reviews_non-nulled.csv')\n"
      ]
    }
  ]
}