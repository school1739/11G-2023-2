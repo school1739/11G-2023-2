{
  "nbformat": 4,
  "nbformat_minor": 0,
  "metadata": {
    "colab": {
      "name": "Untitled1.ipynb",
      "provenance": []
    },
    "kernelspec": {
      "name": "python3",
      "display_name": "Python 3"
    },
    "language_info": {
      "name": "python"
    }
  },
  "cells": [
    {
      "cell_type": "code",
      "execution_count": 2,
      "metadata": {
        "id": "Oh0gXqP07Waz"
      },
      "outputs": [],
      "source": [
        "import pandas as pd\n",
        "import numpy as np\n",
        "import datetime"
      ]
    },
    {
      "cell_type": "code",
      "source": [
        "ser1=pd.Series([1,2,3,4,5])\n",
        "ser1"
      ],
      "metadata": {
        "colab": {
          "base_uri": "https://localhost:8080/"
        },
        "id": "A5IApLQ29BfA",
        "outputId": "846abd5e-d09c-46ee-d831-1e8c4e0cf9e8"
      },
      "execution_count": 8,
      "outputs": [
        {
          "output_type": "execute_result",
          "data": {
            "text/plain": [
              "0    1\n",
              "1    2\n",
              "2    3\n",
              "3    4\n",
              "4    5\n",
              "dtype: int64"
            ]
          },
          "metadata": {},
          "execution_count": 8
        }
      ]
    },
    {
      "cell_type": "code",
      "source": [
        "ser1[3]"
      ],
      "metadata": {
        "colab": {
          "base_uri": "https://localhost:8080/"
        },
        "id": "6NguK1ww-G9C",
        "outputId": "132adeeb-e408-4395-a265-0bcf08adbdf8"
      },
      "execution_count": 10,
      "outputs": [
        {
          "output_type": "execute_result",
          "data": {
            "text/plain": [
              "4"
            ]
          },
          "metadata": {},
          "execution_count": 10
        }
      ]
    },
    {
      "cell_type": "code",
      "source": [
        "ser2=pd.Series([6,7,8,9,0], index=[\"a\", \"b\",\"c\",\"d\",\"e\"])\n",
        "ser2"
      ],
      "metadata": {
        "colab": {
          "base_uri": "https://localhost:8080/"
        },
        "id": "phlvrr-X-Q3Z",
        "outputId": "fbc89b1a-5729-4657-b0b0-1257b481341a"
      },
      "execution_count": 12,
      "outputs": [
        {
          "output_type": "execute_result",
          "data": {
            "text/plain": [
              "a    6\n",
              "b    7\n",
              "c    8\n",
              "d    9\n",
              "e    0\n",
              "dtype: int64"
            ]
          },
          "metadata": {},
          "execution_count": 12
        }
      ]
    },
    {
      "cell_type": "code",
      "source": [
        "dates=pd.date_range(\"2022-01-01\", \"2022-03-25\")\n",
        "dates"
      ],
      "metadata": {
        "colab": {
          "base_uri": "https://localhost:8080/"
        },
        "id": "iXm4o-bx-_PP",
        "outputId": "0524b8d4-2f6b-43e2-80b2-4a15054ea2f6"
      },
      "execution_count": 14,
      "outputs": [
        {
          "output_type": "execute_result",
          "data": {
            "text/plain": [
              "DatetimeIndex(['2022-01-01', '2022-01-02', '2022-01-03', '2022-01-04',\n",
              "               '2022-01-05', '2022-01-06', '2022-01-07', '2022-01-08',\n",
              "               '2022-01-09', '2022-01-10', '2022-01-11', '2022-01-12',\n",
              "               '2022-01-13', '2022-01-14', '2022-01-15', '2022-01-16',\n",
              "               '2022-01-17', '2022-01-18', '2022-01-19', '2022-01-20',\n",
              "               '2022-01-21', '2022-01-22', '2022-01-23', '2022-01-24',\n",
              "               '2022-01-25', '2022-01-26', '2022-01-27', '2022-01-28',\n",
              "               '2022-01-29', '2022-01-30', '2022-01-31', '2022-02-01',\n",
              "               '2022-02-02', '2022-02-03', '2022-02-04', '2022-02-05',\n",
              "               '2022-02-06', '2022-02-07', '2022-02-08', '2022-02-09',\n",
              "               '2022-02-10', '2022-02-11', '2022-02-12', '2022-02-13',\n",
              "               '2022-02-14', '2022-02-15', '2022-02-16', '2022-02-17',\n",
              "               '2022-02-18', '2022-02-19', '2022-02-20', '2022-02-21',\n",
              "               '2022-02-22', '2022-02-23', '2022-02-24', '2022-02-25',\n",
              "               '2022-02-26', '2022-02-27', '2022-02-28', '2022-03-01',\n",
              "               '2022-03-02', '2022-03-03', '2022-03-04', '2022-03-05',\n",
              "               '2022-03-06', '2022-03-07', '2022-03-08', '2022-03-09',\n",
              "               '2022-03-10', '2022-03-11', '2022-03-12', '2022-03-13',\n",
              "               '2022-03-14', '2022-03-15', '2022-03-16', '2022-03-17',\n",
              "               '2022-03-18', '2022-03-19', '2022-03-20', '2022-03-21',\n",
              "               '2022-03-22', '2022-03-23', '2022-03-24', '2022-03-25'],\n",
              "              dtype='datetime64[ns]', freq='D')"
            ]
          },
          "metadata": {},
          "execution_count": 14
        }
      ]
    },
    {
      "cell_type": "code",
      "source": [
        "dates=pd.date_range('2022-01-01', \"2022-01-10\")\n",
        "dates"
      ],
      "metadata": {
        "colab": {
          "base_uri": "https://localhost:8080/"
        },
        "id": "Wsr3tjhAARLU",
        "outputId": "fdd0a1c6-4d64-426f-de8f-285d5e1115a6"
      },
      "execution_count": 17,
      "outputs": [
        {
          "output_type": "execute_result",
          "data": {
            "text/plain": [
              "DatetimeIndex(['2022-01-01', '2022-01-02', '2022-01-03', '2022-01-04',\n",
              "               '2022-01-05', '2022-01-06', '2022-01-07', '2022-01-08',\n",
              "               '2022-01-09', '2022-01-10'],\n",
              "              dtype='datetime64[ns]', freq='D')"
            ]
          },
          "metadata": {},
          "execution_count": 17
        }
      ]
    },
    {
      "cell_type": "code",
      "source": [
        "temperatures=pd.Series([-12,-25,0,1,5,-2,-8,-25,0,1])\n",
        "temperatures"
      ],
      "metadata": {
        "colab": {
          "base_uri": "https://localhost:8080/"
        },
        "id": "iqfQK9dXAfsV",
        "outputId": "256c16bf-2100-49f3-fc73-deb7ab555cc2"
      },
      "execution_count": 19,
      "outputs": [
        {
          "output_type": "execute_result",
          "data": {
            "text/plain": [
              "0   -12\n",
              "1   -25\n",
              "2     0\n",
              "3     1\n",
              "4     5\n",
              "5    -2\n",
              "6    -8\n",
              "7   -25\n",
              "8     0\n",
              "9     1\n",
              "dtype: int64"
            ]
          },
          "metadata": {},
          "execution_count": 19
        }
      ]
    },
    {
      "cell_type": "code",
      "source": [
        "temperatures=pd.Series([-12,-25,0,1,5,-2,-8,-25,0,1], index=dates)\n",
        "temperatures"
      ],
      "metadata": {
        "colab": {
          "base_uri": "https://localhost:8080/"
        },
        "id": "xlHPh_M8A2MG",
        "outputId": "c400779d-6db6-4d77-c843-1c4f6be09b8d"
      },
      "execution_count": 21,
      "outputs": [
        {
          "output_type": "execute_result",
          "data": {
            "text/plain": [
              "2022-01-01   -12\n",
              "2022-01-02   -25\n",
              "2022-01-03     0\n",
              "2022-01-04     1\n",
              "2022-01-05     5\n",
              "2022-01-06    -2\n",
              "2022-01-07    -8\n",
              "2022-01-08   -25\n",
              "2022-01-09     0\n",
              "2022-01-10     1\n",
              "Freq: D, dtype: int64"
            ]
          },
          "metadata": {},
          "execution_count": 21
        }
      ]
    },
    {
      "cell_type": "code",
      "source": [
        "temperatures2=pd.Series([2,-23,-12,-8,1,5,-3,-10,-2,0], index=dates)\n",
        "temperatures2"
      ],
      "metadata": {
        "colab": {
          "base_uri": "https://localhost:8080/"
        },
        "id": "9IuqaSKIA_bC",
        "outputId": "d6dac8bb-ef6f-4e60-d3bf-5dc68d41b658"
      },
      "execution_count": 24,
      "outputs": [
        {
          "output_type": "execute_result",
          "data": {
            "text/plain": [
              "2022-01-01     2\n",
              "2022-01-02   -23\n",
              "2022-01-03   -12\n",
              "2022-01-04    -8\n",
              "2022-01-05     1\n",
              "2022-01-06     5\n",
              "2022-01-07    -3\n",
              "2022-01-08   -10\n",
              "2022-01-09    -2\n",
              "2022-01-10     0\n",
              "Freq: D, dtype: int64"
            ]
          },
          "metadata": {},
          "execution_count": 24
        }
      ]
    },
    {
      "cell_type": "code",
      "source": [
        "temp_diff=temperatures-temperatures2\n",
        "temp_diff"
      ],
      "metadata": {
        "colab": {
          "base_uri": "https://localhost:8080/"
        },
        "id": "peAYMJ-bBu1j",
        "outputId": "fecfb0c2-e3ba-4958-fe26-571bb6123fda"
      },
      "execution_count": 26,
      "outputs": [
        {
          "output_type": "execute_result",
          "data": {
            "text/plain": [
              "2022-01-01   -14\n",
              "2022-01-02    -2\n",
              "2022-01-03    12\n",
              "2022-01-04     9\n",
              "2022-01-05     4\n",
              "2022-01-06    -7\n",
              "2022-01-07    -5\n",
              "2022-01-08   -15\n",
              "2022-01-09     2\n",
              "2022-01-10     1\n",
              "Freq: D, dtype: int64"
            ]
          },
          "metadata": {},
          "execution_count": 26
        }
      ]
    },
    {
      "cell_type": "code",
      "source": [
        "print(temp_diff.mean())"
      ],
      "metadata": {
        "colab": {
          "base_uri": "https://localhost:8080/"
        },
        "id": "k8wgWtioCGAk",
        "outputId": "31af072c-e93e-48da-e57b-23a9477e5f01"
      },
      "execution_count": 27,
      "outputs": [
        {
          "output_type": "stream",
          "name": "stdout",
          "text": [
            "-1.5\n"
          ]
        }
      ]
    }
  ]
}