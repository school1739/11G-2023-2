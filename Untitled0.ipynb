{
  "nbformat": 4,
  "nbformat_minor": 0,
  "metadata": {
    "colab": {
      "name": "Untitled0.ipynb",
      "provenance": [],
      "collapsed_sections": []
    },
    "kernelspec": {
      "name": "python3",
      "display_name": "Python 3"
    },
    "language_info": {
      "name": "python"
    }
  },
  "cells": [
    {
      "cell_type": "code",
      "execution_count": 2,
      "metadata": {
        "id": "ZLJs0WDN7h_f"
      },
      "outputs": [],
      "source": [
        "import pandas as pd\n",
        "import numpy as np\n",
        "import datetime \n"
      ]
    },
    {
      "cell_type": "code",
      "source": [
        "ser1=pd.Series([1,2,3,4,5])\n",
        "ser1\n"
      ],
      "metadata": {
        "colab": {
          "base_uri": "https://localhost:8080/"
        },
        "id": "I8gley0y9BXM",
        "outputId": "60fdfd49-2453-4589-aa24-47e15a6a760a"
      },
      "execution_count": 6,
      "outputs": [
        {
          "output_type": "execute_result",
          "data": {
            "text/plain": [
              "0    1\n",
              "1    2\n",
              "2    3\n",
              "3    4\n",
              "4    5\n",
              "dtype: int64"
            ]
          },
          "metadata": {},
          "execution_count": 6
        }
      ]
    },
    {
      "cell_type": "code",
      "source": [
        "ser1[3]"
      ],
      "metadata": {
        "colab": {
          "base_uri": "https://localhost:8080/"
        },
        "id": "0cCHyETY-Dho",
        "outputId": "363257e1-0c2d-46a5-f9f9-d3aab45f253f"
      },
      "execution_count": 8,
      "outputs": [
        {
          "output_type": "execute_result",
          "data": {
            "text/plain": [
              "4"
            ]
          },
          "metadata": {},
          "execution_count": 8
        }
      ]
    },
    {
      "cell_type": "code",
      "source": [
        "ser2=pd.Series([6,7,8,9,0], index=['a', 'b', 'c', 'd', 'e'])\n",
        "ser2"
      ],
      "metadata": {
        "colab": {
          "base_uri": "https://localhost:8080/"
        },
        "id": "XKEj8KeE-Uc7",
        "outputId": "4f93a005-a79f-4c12-9ba3-09596d8adc92"
      },
      "execution_count": 12,
      "outputs": [
        {
          "output_type": "execute_result",
          "data": {
            "text/plain": [
              "a    6\n",
              "b    7\n",
              "c    8\n",
              "d    9\n",
              "e    0\n",
              "dtype: int64"
            ]
          },
          "metadata": {},
          "execution_count": 12
        }
      ]
    },
    {
      "cell_type": "code",
      "source": [
        "dates=pd.date_range(\"2022-01-01\", \"2022-03-25\")\n",
        "dates"
      ],
      "metadata": {
        "colab": {
          "base_uri": "https://localhost:8080/"
        },
        "id": "_XXU3-rN_DNz",
        "outputId": "42414de9-3093-4751-e6c7-9c992c99d540"
      },
      "execution_count": 15,
      "outputs": [
        {
          "output_type": "execute_result",
          "data": {
            "text/plain": [
              "DatetimeIndex(['2022-01-01', '2022-01-02', '2022-01-03', '2022-01-04',\n",
              "               '2022-01-05', '2022-01-06', '2022-01-07', '2022-01-08',\n",
              "               '2022-01-09', '2022-01-10', '2022-01-11', '2022-01-12',\n",
              "               '2022-01-13', '2022-01-14', '2022-01-15', '2022-01-16',\n",
              "               '2022-01-17', '2022-01-18', '2022-01-19', '2022-01-20',\n",
              "               '2022-01-21', '2022-01-22', '2022-01-23', '2022-01-24',\n",
              "               '2022-01-25', '2022-01-26', '2022-01-27', '2022-01-28',\n",
              "               '2022-01-29', '2022-01-30', '2022-01-31', '2022-02-01',\n",
              "               '2022-02-02', '2022-02-03', '2022-02-04', '2022-02-05',\n",
              "               '2022-02-06', '2022-02-07', '2022-02-08', '2022-02-09',\n",
              "               '2022-02-10', '2022-02-11', '2022-02-12', '2022-02-13',\n",
              "               '2022-02-14', '2022-02-15', '2022-02-16', '2022-02-17',\n",
              "               '2022-02-18', '2022-02-19', '2022-02-20', '2022-02-21',\n",
              "               '2022-02-22', '2022-02-23', '2022-02-24', '2022-02-25',\n",
              "               '2022-02-26', '2022-02-27', '2022-02-28', '2022-03-01',\n",
              "               '2022-03-02', '2022-03-03', '2022-03-04', '2022-03-05',\n",
              "               '2022-03-06', '2022-03-07', '2022-03-08', '2022-03-09',\n",
              "               '2022-03-10', '2022-03-11', '2022-03-12', '2022-03-13',\n",
              "               '2022-03-14', '2022-03-15', '2022-03-16', '2022-03-17',\n",
              "               '2022-03-18', '2022-03-19', '2022-03-20', '2022-03-21',\n",
              "               '2022-03-22', '2022-03-23', '2022-03-24', '2022-03-25'],\n",
              "              dtype='datetime64[ns]', freq='D')"
            ]
          },
          "metadata": {},
          "execution_count": 15
        }
      ]
    },
    {
      "cell_type": "code",
      "source": [
        "dates=pd.date_range(\"2022-01-01\", \"2022-01-10\")\n",
        "dates"
      ],
      "metadata": {
        "colab": {
          "base_uri": "https://localhost:8080/"
        },
        "id": "y_ZZLuMOAPBE",
        "outputId": "70816041-37ba-43eb-86ec-17797928d608"
      },
      "execution_count": 17,
      "outputs": [
        {
          "output_type": "execute_result",
          "data": {
            "text/plain": [
              "DatetimeIndex(['2022-01-01', '2022-01-02', '2022-01-03', '2022-01-04',\n",
              "               '2022-01-05', '2022-01-06', '2022-01-07', '2022-01-08',\n",
              "               '2022-01-09', '2022-01-10'],\n",
              "              dtype='datetime64[ns]', freq='D')"
            ]
          },
          "metadata": {},
          "execution_count": 17
        }
      ]
    },
    {
      "cell_type": "code",
      "source": [
        "temperatures=pd.Series([-12, -25,0,1,5,-2,-8,-25,0,1], index=dates)\n",
        "temperatures"
      ],
      "metadata": {
        "colab": {
          "base_uri": "https://localhost:8080/"
        },
        "id": "Gda5zqFFAosS",
        "outputId": "d028148d-b63f-4717-bd74-bd463ecaef19"
      },
      "execution_count": 20,
      "outputs": [
        {
          "output_type": "execute_result",
          "data": {
            "text/plain": [
              "2022-01-01   -12\n",
              "2022-01-02   -25\n",
              "2022-01-03     0\n",
              "2022-01-04     1\n",
              "2022-01-05     5\n",
              "2022-01-06    -2\n",
              "2022-01-07    -8\n",
              "2022-01-08   -25\n",
              "2022-01-09     0\n",
              "2022-01-10     1\n",
              "Freq: D, dtype: int64"
            ]
          },
          "metadata": {},
          "execution_count": 20
        }
      ]
    },
    {
      "cell_type": "code",
      "source": [
        "temperatures2=pd.Series([2, -45,8,1,5,32,-8,-25,0,1], index=dates)\n",
        "temperatures2"
      ],
      "metadata": {
        "colab": {
          "base_uri": "https://localhost:8080/"
        },
        "id": "RzDOQUTBA_JT",
        "outputId": "f89fa38a-cc78-4dcd-de13-d25b8710c07b"
      },
      "execution_count": 24,
      "outputs": [
        {
          "output_type": "execute_result",
          "data": {
            "text/plain": [
              "2022-01-01     2\n",
              "2022-01-02   -45\n",
              "2022-01-03     8\n",
              "2022-01-04     1\n",
              "2022-01-05     5\n",
              "2022-01-06    32\n",
              "2022-01-07    -8\n",
              "2022-01-08   -25\n",
              "2022-01-09     0\n",
              "2022-01-10     1\n",
              "Freq: D, dtype: int64"
            ]
          },
          "metadata": {},
          "execution_count": 24
        }
      ]
    },
    {
      "cell_type": "code",
      "source": [
        "temp_diff=temperatures-temperatures2\n",
        "temp_diff"
      ],
      "metadata": {
        "colab": {
          "base_uri": "https://localhost:8080/"
        },
        "id": "qOCQA8NmBidp",
        "outputId": "1fe256d1-82dc-43ab-d195-0724d04205a4"
      },
      "execution_count": 25,
      "outputs": [
        {
          "output_type": "execute_result",
          "data": {
            "text/plain": [
              "2022-01-01   -14\n",
              "2022-01-02    20\n",
              "2022-01-03    -8\n",
              "2022-01-04     0\n",
              "2022-01-05     0\n",
              "2022-01-06   -34\n",
              "2022-01-07     0\n",
              "2022-01-08     0\n",
              "2022-01-09     0\n",
              "2022-01-10     0\n",
              "Freq: D, dtype: int64"
            ]
          },
          "metadata": {},
          "execution_count": 25
        }
      ]
    }
  ]
}